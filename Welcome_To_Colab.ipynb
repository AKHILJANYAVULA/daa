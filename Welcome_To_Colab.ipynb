{
  "cells": [
    {
      "cell_type": "markdown",
      "metadata": {
        "id": "view-in-github",
        "colab_type": "text"
      },
      "source": [
        "<a href=\"https://colab.research.google.com/github/AKHILJANYAVULA/daa/blob/main/Welcome_To_Colab.ipynb\" target=\"_parent\"><img src=\"https://colab.research.google.com/assets/colab-badge.svg\" alt=\"Open In Colab\"/></a>"
      ]
    },
    {
      "cell_type": "code",
      "source": [
        "x = int(input(\"enter X\"))\n",
        "y = int(input(\"enter y\"))\n",
        "c = input(\"enter op\")\n",
        "if c ==\"+\":\n",
        "    print(x+y)\n",
        "elif c==\"-\":\n",
        "    print(x - y)\n",
        "else:\n",
        "    print(\"noob\")"
      ],
      "metadata": {
        "id": "slxMtCWZnVO3",
        "outputId": "106bd811-f8f4-40c1-80ed-5fd49b160565",
        "colab": {
          "base_uri": "https://localhost:8080/"
        }
      },
      "execution_count": 1,
      "outputs": [
        {
          "output_type": "stream",
          "name": "stdout",
          "text": [
            "enter X5\n",
            "enter y6\n",
            "enter op-\n",
            "-1\n"
          ]
        }
      ]
    }
  ],
  "metadata": {
    "colab": {
      "name": "Welcome To Colab",
      "toc_visible": true,
      "provenance": [],
      "include_colab_link": true
    },
    "kernelspec": {
      "display_name": "Python 3",
      "name": "python3"
    }
  },
  "nbformat": 4,
  "nbformat_minor": 0
}